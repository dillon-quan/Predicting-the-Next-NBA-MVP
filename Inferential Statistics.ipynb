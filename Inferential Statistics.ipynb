{
 "cells": [
  {
   "cell_type": "markdown",
   "metadata": {},
   "source": [
    "### Hypothesis Testing for the population true mean marginal PER between MVP and the league"
   ]
  },
  {
   "cell_type": "code",
   "execution_count": 264,
   "metadata": {},
   "outputs": [],
   "source": [
    "import pandas as pd\n",
    "import numpy as np\n",
    "import scipy.stats as st\n",
    "import seaborn as sns\n",
    "import matplotlib.pyplot as plt\n",
    "\n",
    "pd.options.display.max_columns = None\n",
    "df = pd.read_csv('Clean NBA Player Data.csv')"
   ]
  },
  {
   "cell_type": "code",
   "execution_count": 265,
   "metadata": {},
   "outputs": [],
   "source": [
    "#to generate a sample size of 30 marginal PER between MVPs and season average\n",
    "\n",
    "MVP = ['Michael Jordan*','Magic Johnson*','Michael Jordan*','Michael Jordan*','Charles Barkley*','Hakeem Olajuwon*','David Robinson*','Michael Jordan*','Karl Malone*','Michael Jordan*','Karl Malone*']\n",
    "Season = [1988,1990,1991,1992,1993,1994,1995,1996,1997,1998,1999]\n",
    "MVP_winner = list(zip(MVP,Season))\n",
    "df.loc[444,'MVP'] = 1\n",
    "\n",
    "df = df.set_index(['Year', 'Player'])\n",
    "for mvp, year in MVP_winner:\n",
    "    df.loc[(year,mvp),'MVP'] = 1\n",
    "\n",
    "df_mvps = df[df.MVP == 1]\n",
    "df_mvps = df_mvps.sort_values(by=['Year1'])"
   ]
  },
  {
   "cell_type": "code",
   "execution_count": 266,
   "metadata": {},
   "outputs": [],
   "source": [
    "#function to calculate the marginal PER from the MVP of that season and the league's average that season.\n",
    "#takes in 2 dataframe\n",
    "\n",
    "def marginal_PER(player, season_data):\n",
    "    avg_PER = np.mean(season_data.PER)\n",
    "    marginal_PER = float(player.PER) - avg_PER\n",
    "    return marginal_PER"
   ]
  },
  {
   "cell_type": "code",
   "execution_count": 267,
   "metadata": {},
   "outputs": [],
   "source": [
    "#compute a bootstrap replicate\n",
    "\n",
    "def bs_sample_rep(marginal_data, size, func):\n",
    "    return func(np.random.choice(marginal_data, size = size))"
   ]
  },
  {
   "cell_type": "code",
   "execution_count": 279,
   "metadata": {},
   "outputs": [],
   "source": [
    "#compute the marginal PER between MVP to the league average\n",
    "\n",
    "PER_margin = []\n",
    "for i in range(1988,2018):\n",
    "    PER_margin.append(marginal_PER(df_mvps[df_mvps.Year1 == i],df[df.Year1 == i]))"
   ]
  },
  {
   "cell_type": "code",
   "execution_count": 282,
   "metadata": {},
   "outputs": [
    {
     "data": {
      "text/plain": [
       "15.000742553412158"
      ]
     },
     "execution_count": 282,
     "metadata": {},
     "output_type": "execute_result"
    }
   ],
   "source": [
    "#create 10000 bootstrap replicates\n",
    "\n",
    "sampling_dis = []\n",
    "\n",
    "for i in range(10000):\n",
    "    sampling_dis.append(bs_sample_rep(PER_margin, 30, np.mean))\n",
    "\n",
    "true_mean = np.mean(sampling_dis)\n",
    "true_mean"
   ]
  },
  {
   "cell_type": "markdown",
   "metadata": {},
   "source": []
  },
  {
   "cell_type": "markdown",
   "metadata": {},
   "source": [
    "## Hypothesis Testing on the true mean of the marginal PER between MVP and league average\n",
    "\n",
    "The point of this hypothesis testing is to determine whether the posed true average for the marginal PER between MVPs and the league average is 15.00. The marginal PER is calculated by taking the difference between the MVP and league average PER for a specific season. The value allows us to see how well the MVP performed relatively to all other players that season. Up until now, only a PER threshold has been determine analyze to win the MVP. But what if for one  season many players played badly compared to other seasons and the MVP award was given to an above average PER? It will be hard to rate players by just using the PER scale. Therefore, it will be helpful to gauge how well the average MVP out perform the league.\n",
    "\n",
    "To begin the hypothesis testing, the null and alternative hypotheses are stated as follows:\n",
    "\n",
    "$H_{o}: \\mu = 15.00$\n",
    "\n",
    "$H_{a}: \\mu \\neq 15.00$\n",
    "\n",
    "A one sample t test will be used to determine if the p value is less than the significance level. If so, then the null hypothesis will be rejected and the alternative hypothesis will be accepted. The significance level will be preset to $\\alpha = .05$.\n",
    "\n",
    "t = $\\frac{\\bar{x} - \\mu_{o}}{\\delta /\\sqrt{n} }$\n",
    "\n",
    "As seen below,\n",
    "\n",
    "t = 0.46179937561216977\n",
    "\n",
    "p value = 0.64767081755407196\n",
    "\n",
    "Since the p value is greater than the significance level, there isnt strong enough evidence to reject the null hypothesis. The 95% confidence interval is computed to be [14.210468128156421, 16.298867804774559] for this random sample."
   ]
  },
  {
   "cell_type": "code",
   "execution_count": 232,
   "metadata": {
    "scrolled": true
   },
   "outputs": [
    {
     "data": {
      "text/plain": [
       "Ttest_1sampResult(statistic=0.46179937561216977, pvalue=0.64767081755407196)"
      ]
     },
     "execution_count": 232,
     "metadata": {},
     "output_type": "execute_result"
    }
   ],
   "source": [
    "#generate a random sample to compute the t score and its p value\n",
    "bs_sample = np.random.choice(PER_margin, size = 30)\n",
    "st.ttest_1samp(bs_sample, true_mean)"
   ]
  },
  {
   "cell_type": "code",
   "execution_count": 263,
   "metadata": {},
   "outputs": [
    {
     "data": {
      "text/plain": [
       "15.25466796646549"
      ]
     },
     "execution_count": 263,
     "metadata": {},
     "output_type": "execute_result"
    }
   ],
   "source": [
    "sample_mean"
   ]
  },
  {
   "cell_type": "code",
   "execution_count": 255,
   "metadata": {},
   "outputs": [
    {
     "data": {
      "text/plain": [
       "(14.210468128156421, 16.298867804774559)"
      ]
     },
     "execution_count": 255,
     "metadata": {},
     "output_type": "execute_result"
    }
   ],
   "source": [
    "#95% CI from the random sample\n",
    "\n",
    "sample_mean = np.mean(bs_sample)\n",
    "sample_std = np.std(bs_sample)\n",
    "st.norm.interval(0.95, loc=sample_mean, scale=sample_std/np.sqrt(30))"
   ]
  },
  {
   "cell_type": "code",
   "execution_count": 241,
   "metadata": {},
   "outputs": [
    {
     "data": {
      "image/png": "[encoded data removed]",
      "text/plain": [
       "<matplotlib.figure.Figure at 0x117b7e860>"
      ]
     },
     "metadata": {},
     "output_type": "display_data"
    }
   ],
   "source": [
    "#plot sampling distribution of the sample mean of the Marginal PER\n",
    "\n",
    "_ = plt.hist(sampling_dis, bins = 40, normed = True)\n",
    "_ = plt.xlabel('Average Marginal PER')\n",
    "_ = plt.ylabel('PDF')\n",
    "_ = plt.title('Marginal PER between MVP and League Average')\n",
    "sns.set()\n",
    "plt.show()"
   ]
  }
 ],
 "metadata": {
  "kernelspec": {
   "display_name": "Python 3",
   "language": "python",
   "name": "python3"
  },
  "language_info": {
   "codemirror_mode": {
    "name": "ipython",
    "version": 3
   },
   "file_extension": ".py",
   "mimetype": "text/x-python",
   "name": "python",
   "nbconvert_exporter": "python",
   "pygments_lexer": "ipython3",
   "version": "3.6.1"
  }
 },
 "nbformat": 4,
 "nbformat_minor": 2
}
